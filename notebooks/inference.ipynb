{
 "cells": [
  {
   "cell_type": "markdown",
   "metadata": {
    "vscode": {
     "languageId": "plaintext"
    }
   },
   "source": [
    "# Trainable directions + CLIP Text Target"
   ]
  },
  {
   "cell_type": "code",
   "execution_count": null,
   "metadata": {},
   "outputs": [],
   "source": [
    "import subprocess\n",
    "feature_name = \"smiling\"\n",
    "cmd = [\n",
    "    \"python\", \"../modules/stylegan2-ada-pytorch/generate_from_trainable.py\",\n",
    "    \"--network\", \"../modules/stylegan2-ada-pytorch/ffhq.pkl\",\n",
    "    \"--seeds\", \"10-12\",\n",
    "    \"--trunc\", \"0.7\",\n",
    "    \"--noise-mode\", \"const\",\n",
    "    \"--direction-pt\", f\"../outputs/training_steps/{feature_name}/directions.pt\",\n",
    "    \"--outdir\", \"../outputs/inference/trainable/\"\n",
    "]\n",
    "\n",
    "subprocess.run(cmd)"
   ]
  },
  {
   "cell_type": "markdown",
   "metadata": {},
   "source": [
    "# Trainable directions & step size + CLIP Text Target"
   ]
  },
  {
   "cell_type": "code",
   "execution_count": null,
   "metadata": {},
   "outputs": [],
   "source": [
    "import subprocess\n",
    "feature_name = \"smiling\"\n",
    "cmd = [\n",
    "    \"python\", \"../modules/stylegan2-ada-pytorch/generate_from_trainable_new.py\",\n",
    "    \"--network\", \"../modules/stylegan2-ada-pytorch/ffhq.pkl\",\n",
    "    \"--seeds\", \"10-12\",\n",
    "    \"--trunc\", \"0.7\",\n",
    "    \"--noise-mode\", \"const\",\n",
    "    \"--direction-pt\", f\"../outputs/training_steps_new/{feature_name}/directions.pt\",\n",
    "    \"--outdir\", \"../outputs/inference/trainable_new/\"\n",
    "]\n",
    "\n",
    "subprocess.run(cmd)"
   ]
  },
  {
   "cell_type": "markdown",
   "metadata": {},
   "source": [
    "# Trainable directions & step size + CLIP Image / Text Target"
   ]
  },
  {
   "cell_type": "code",
   "execution_count": null,
   "metadata": {},
   "outputs": [],
   "source": [
    "import subprocess\n",
    "feature_name = \"smiling\"\n",
    "cmd = [\n",
    "    \"python\", \"../modules/stylegan2-ada-pytorch/generate_from_trainable_new.py\",\n",
    "    \"--network\", \"../modules/stylegan2-ada-pytorch/ffhq.pkl\",\n",
    "    \"--seeds\", \"10-12\",\n",
    "    \"--trunc\", \"0.7\",\n",
    "    \"--noise-mode\", \"const\",\n",
    "    \"--direction-pt\", f\"../outputs/training_steps_new2/{feature_name}/directions.pt\",\n",
    "    \"--outdir\", \"../outputs/inference/trainable_new2/\"\n",
    "]\n",
    "\n",
    "subprocess.run(cmd)"
   ]
  }
 ],
 "metadata": {
  "kernelspec": {
   "display_name": "ganexplainer",
   "language": "python",
   "name": "python3"
  },
  "language_info": {
   "codemirror_mode": {
    "name": "ipython",
    "version": 3
   },
   "file_extension": ".py",
   "mimetype": "text/x-python",
   "name": "python",
   "nbconvert_exporter": "python",
   "pygments_lexer": "ipython3",
   "version": "3.10.12"
  }
 },
 "nbformat": 4,
 "nbformat_minor": 2
}
